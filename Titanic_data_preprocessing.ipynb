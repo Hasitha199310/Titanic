{
 "cells": [
  {
   "cell_type": "code",
   "execution_count": 1,
   "id": "c5c80292-4ae3-4208-9a27-4d6690297c77",
   "metadata": {},
   "outputs": [],
   "source": [
    "import pandas as pd\n",
    "import numpy as np"
   ]
  },
  {
   "cell_type": "code",
   "execution_count": 2,
   "id": "4309f9e1-6816-4f93-88dd-4de9ed4d0a8a",
   "metadata": {},
   "outputs": [],
   "source": [
    "train = pd.read_csv('data/train.csv')\n",
    "test = pd.read_csv('data/test.csv')"
   ]
  },
  {
   "cell_type": "code",
   "execution_count": 3,
   "id": "56263f17-6eb8-413c-9f59-3a1fdc4fdf12",
   "metadata": {},
   "outputs": [],
   "source": [
    "REMOVE_FIELDS = ['PassengerId', 'Cabin', 'Name', 'Ticket']\n",
    "NORMALIZE_FIELDS = ['Pclass', 'Age_bin', 'Fare_bin', 'Relations']"
   ]
  },
  {
   "cell_type": "code",
   "execution_count": 4,
   "id": "c7ab58d2-e3d9-4d26-acda-a30d52241d19",
   "metadata": {},
   "outputs": [],
   "source": [
    "def remove(dataset,remove_fields = REMOVE_FIELDS ):\n",
    "    for field in remove_fields:\n",
    "        del dataset[field]\n",
    "    return dataset"
   ]
  },
  {
   "cell_type": "code",
   "execution_count": 5,
   "id": "e7a881db-a068-4980-acbd-63ef3eb405ad",
   "metadata": {},
   "outputs": [],
   "source": [
    "def missing_data_filling(dataset,field):\n",
    "    mean_val = dataset[field].mean()\n",
    "    dataset[field].fillna(mean_val, inplace = True)\n",
    "    return dataset"
   ]
  },
  {
   "cell_type": "code",
   "execution_count": 6,
   "id": "425972f1-89e8-4eca-bcc3-658582d2a65c",
   "metadata": {},
   "outputs": [],
   "source": [
    "def bins(dataset,field,bins):\n",
    "    label = field + '_bin'\n",
    "    dataset[label] = pd.cut(x=dataset[field], bins= bins, labels = list(range(bins)), right = True )\n",
    "    del dataset[field]\n",
    "    return dataset"
   ]
  },
  {
   "cell_type": "code",
   "execution_count": 7,
   "id": "a707158b-5b23-4492-902c-d6bc680e26ce",
   "metadata": {},
   "outputs": [],
   "source": [
    "def feature_engineering(dataset):\n",
    "    #SibSp and Parch Encoding\n",
    "    conditions = [\n",
    "                (dataset['Parch'] == 0) & (dataset['SibSp'] == 0),\n",
    "                (dataset['Parch'] > 0) & (dataset['SibSp'] == 0),\n",
    "                (dataset['Parch'] == 0) & (dataset['SibSp'] > 0),\n",
    "                (dataset['Parch'] > 0) & (dataset['SibSp'] > 0),\n",
    "                ]\n",
    "    verdicts = [\n",
    "            0,\n",
    "            1,\n",
    "            3,\n",
    "            4\n",
    "                ]\n",
    "    dataset['Relations'] = np.select(conditions, verdicts, default = 0 )\n",
    "    #del dataset['SibSp']\n",
    "    #del dataset['Parch']\n",
    "    return dataset"
   ]
  },
  {
   "cell_type": "code",
   "execution_count": 8,
   "id": "96d59a00-4cfe-49f1-ba6f-e5cd911a8f65",
   "metadata": {},
   "outputs": [],
   "source": [
    "def normalization(dataset, field):\n",
    "    dataset[field] = dataset[field].astype(int)\n",
    "    minimum = dataset[field].min()\n",
    "    maximum = dataset[field].max()\n",
    "    \n",
    "    dataset[field] = dataset[field]/ (maximum - minimum)\n",
    "    return dataset\n",
    "    "
   ]
  },
  {
   "cell_type": "code",
   "execution_count": 9,
   "id": "ec7338e5-7ee8-42c4-aeef-5c2700c7c36b",
   "metadata": {},
   "outputs": [],
   "source": [
    "def preprocessing(dataset,normalized = NORMALIZE_FIELDS):\n",
    "    dataset = remove(dataset,REMOVE_FIELDS )\n",
    "    dataset = missing_data_filling(dataset, 'Age')\n",
    "    dataset = missing_data_filling(dataset, 'Fare')\n",
    "    dataset = bins(dataset,'Age', 32)\n",
    "    dataset = bins(dataset,'Fare', 120)\n",
    "    dataset = feature_engineering(dataset)\n",
    "    dataset = pd.get_dummies(dataset,columns=['Sex'],drop_first=True)\n",
    "    dataset = pd.get_dummies(dataset,columns=['Embarked'],drop_first=True)\n",
    "    \n",
    "    #for field in normalized:\n",
    "        #dataset = normalization(dataset, field)\n",
    "    return dataset"
   ]
  },
  {
   "cell_type": "code",
   "execution_count": 10,
   "id": "3f9766c5-da10-4965-b34e-7d0de1a5ce51",
   "metadata": {},
   "outputs": [],
   "source": [
    "train = preprocessing(train)\n",
    "test = preprocessing(test)"
   ]
  },
  {
   "cell_type": "code",
   "execution_count": 11,
   "id": "9332b935-76dc-4ca2-9af8-15aec7a5be44",
   "metadata": {},
   "outputs": [
    {
     "data": {
      "text/plain": [
       "Index(['Pclass', 'SibSp', 'Parch', 'Age_bin', 'Fare_bin', 'Relations',\n",
       "       'Sex_male', 'Embarked_Q', 'Embarked_S'],\n",
       "      dtype='object')"
      ]
     },
     "execution_count": 11,
     "metadata": {},
     "output_type": "execute_result"
    }
   ],
   "source": [
    "test.columns"
   ]
  },
  {
   "cell_type": "code",
   "execution_count": 12,
   "id": "5898d6d9-2d68-48e2-835b-e043bfd1578c",
   "metadata": {},
   "outputs": [],
   "source": [
    "train.to_csv('data/train_processed.csv', index = False)\n",
    "test.to_csv('data/test_processed.csv', index = False)"
   ]
  },
  {
   "cell_type": "code",
   "execution_count": null,
   "id": "8a880240-3538-4221-9bdc-1a13b379b328",
   "metadata": {},
   "outputs": [],
   "source": []
  }
 ],
 "metadata": {
  "kernelspec": {
   "display_name": "Python 3 (ipykernel)",
   "language": "python",
   "name": "python3"
  },
  "language_info": {
   "codemirror_mode": {
    "name": "ipython",
    "version": 3
   },
   "file_extension": ".py",
   "mimetype": "text/x-python",
   "name": "python",
   "nbconvert_exporter": "python",
   "pygments_lexer": "ipython3",
   "version": "3.10.7"
  }
 },
 "nbformat": 4,
 "nbformat_minor": 5
}
